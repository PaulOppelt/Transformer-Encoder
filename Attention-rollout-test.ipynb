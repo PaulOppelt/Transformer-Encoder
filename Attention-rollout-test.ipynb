{
 "cells": [
  {
   "cell_type": "code",
   "execution_count": 25,
   "id": "91854812",
   "metadata": {},
   "outputs": [],
   "source": [
    "from model import Bert\n",
    "from test import LinearClassification\n",
    "from test import segment_gen\n",
    "import torch\n",
    "import time"
   ]
  },
  {
   "cell_type": "code",
   "execution_count": 26,
   "id": "5f8cbea4",
   "metadata": {},
   "outputs": [
    {
     "name": "stdout",
     "output_type": "stream",
     "text": [
      "torch.Size([32, 8, 32, 32])\n",
      "torch.Size([32, 8, 32, 32])\n",
      "torch.Size([32, 8, 32, 32])\n",
      "torch.Size([32, 8, 32, 32])\n",
      "torch.Size([32, 8, 32, 32])\n",
      "torch.Size([32, 8, 32, 32])\n",
      "torch.Size([32, 8, 32, 32])\n",
      "torch.Size([32, 8, 32, 32])\n",
      "torch.Size([32, 8, 32, 32])\n",
      "torch.Size([32, 8, 32, 32])\n",
      "torch.Size([32, 8, 32, 32])\n",
      "torch.Size([32, 8, 32, 32])\n",
      "1.9413080215454102\n"
     ]
    }
   ],
   "source": [
    "torch.manual_seed(0)\n",
    "\n",
    "# initialize Encoder\n",
    "Encoder = Bert(\n",
    "    vocab_size = 100,\n",
    "    n_domains_incl = 4,\n",
    "    window_size = 32,\n",
    "    d_model = 512,\n",
    "    n_layers = 12,\n",
    "    n_heads = 8,\n",
    "    feed_foreward = 1024,\n",
    "    PAD_IDX = 1,\n",
    "    dropout = 0.4,\n",
    "    scale_grad_by_freq = True,\n",
    "    copy_weight =  False)\n",
    "\n",
    "# initialize linear Classification\n",
    "LinearClassification_ = LinearClassification(512,4,8,2)\n",
    "\n",
    "# create inputs\n",
    "input = torch.randint(0,100,(32,32)).to(torch.long)\n",
    "segments = segment_gen(8,4,32)\n",
    "\n",
    "# run some tests\n",
    "start = time.time()\n",
    "logits, src = Encoder(input, segments)\n",
    "out = LinearClassification_(src)\n",
    "print(time.time()-start)"
   ]
  },
  {
   "cell_type": "code",
   "execution_count": 31,
   "id": "93b8ee11",
   "metadata": {},
   "outputs": [],
   "source": [
    "a = [1,2,3,4,5,4,56,3,4,3,4,55,3]"
   ]
  },
  {
   "cell_type": "code",
   "execution_count": 33,
   "id": "2394eeda",
   "metadata": {},
   "outputs": [
    {
     "data": {
      "text/plain": [
       "[2, 3, 4, 5, 4, 56, 3, 4, 3, 4, 55, 3]"
      ]
     },
     "execution_count": 33,
     "metadata": {},
     "output_type": "execute_result"
    }
   ],
   "source": [
    "a[1:]"
   ]
  },
  {
   "cell_type": "code",
   "execution_count": 34,
   "id": "673e5ea0",
   "metadata": {},
   "outputs": [
    {
     "ename": "NameError",
     "evalue": "name 'Dataset' is not defined",
     "output_type": "error",
     "traceback": [
      "\u001b[0;31m---------------------------------------------------------------------------\u001b[0m",
      "\u001b[0;31mNameError\u001b[0m                                 Traceback (most recent call last)",
      "\u001b[0;32m/var/folders/js/hxmnpkdx4fvcpqktc9g8j9p80000gn/T/ipykernel_14168/3286628423.py\u001b[0m in \u001b[0;36m<module>\u001b[0;34m\u001b[0m\n\u001b[0;32m----> 1\u001b[0;31m \u001b[0;32mclass\u001b[0m \u001b[0mloader\u001b[0m\u001b[0;34m(\u001b[0m\u001b[0mDataset\u001b[0m\u001b[0;34m)\u001b[0m\u001b[0;34m:\u001b[0m\u001b[0;34m\u001b[0m\u001b[0;34m\u001b[0m\u001b[0m\n\u001b[0m\u001b[1;32m      2\u001b[0m     \u001b[0;32mdef\u001b[0m \u001b[0m__init__\u001b[0m\u001b[0;34m(\u001b[0m\u001b[0mself\u001b[0m\u001b[0;34m,\u001b[0m\u001b[0mx\u001b[0m\u001b[0;34m)\u001b[0m\u001b[0;34m:\u001b[0m\u001b[0;34m\u001b[0m\u001b[0;34m\u001b[0m\u001b[0m\n\u001b[1;32m      3\u001b[0m         \u001b[0mself\u001b[0m\u001b[0;34m.\u001b[0m\u001b[0mx\u001b[0m \u001b[0;34m=\u001b[0m \u001b[0mx\u001b[0m\u001b[0;34m\u001b[0m\u001b[0;34m\u001b[0m\u001b[0m\n\u001b[1;32m      4\u001b[0m     \u001b[0;32mdef\u001b[0m \u001b[0m__len__\u001b[0m\u001b[0;34m(\u001b[0m\u001b[0mself\u001b[0m\u001b[0;34m)\u001b[0m\u001b[0;34m:\u001b[0m\u001b[0;34m\u001b[0m\u001b[0;34m\u001b[0m\u001b[0m\n\u001b[1;32m      5\u001b[0m         \u001b[0;32mreturn\u001b[0m \u001b[0mlen\u001b[0m\u001b[0;34m(\u001b[0m\u001b[0mx\u001b[0m\u001b[0;34m)\u001b[0m\u001b[0;34m\u001b[0m\u001b[0;34m\u001b[0m\u001b[0m\n",
      "\u001b[0;31mNameError\u001b[0m: name 'Dataset' is not defined"
     ]
    }
   ],
   "source": [
    "class loader(Dataset):\n",
    "    def __init__(self,x):\n",
    "        self.x = x\n",
    "    def __len__(self):\n",
    "        return len(x)\n",
    "    def __getitem__(self,index):\n",
    "        return self.x[index]"
   ]
  },
  {
   "cell_type": "code",
   "execution_count": null,
   "id": "cb306901",
   "metadata": {},
   "outputs": [],
   "source": []
  }
 ],
 "metadata": {
  "kernelspec": {
   "display_name": "Python 3 (ipykernel)",
   "language": "python",
   "name": "python3"
  },
  "language_info": {
   "codemirror_mode": {
    "name": "ipython",
    "version": 3
   },
   "file_extension": ".py",
   "mimetype": "text/x-python",
   "name": "python",
   "nbconvert_exporter": "python",
   "pygments_lexer": "ipython3",
   "version": "3.9.7"
  }
 },
 "nbformat": 4,
 "nbformat_minor": 5
}
